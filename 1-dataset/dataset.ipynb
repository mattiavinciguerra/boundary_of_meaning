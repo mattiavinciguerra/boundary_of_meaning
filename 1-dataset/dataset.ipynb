{
 "cells": [
  {
   "cell_type": "code",
   "execution_count": null,
   "id": "0ac58876",
   "metadata": {},
   "outputs": [],
   "source": [
    "import xml.etree.ElementTree as ET\n",
    "import pandas as pd\n",
    "import re"
   ]
  },
  {
   "cell_type": "code",
   "execution_count": 10,
   "id": "9d8f54f1",
   "metadata": {},
   "outputs": [
    {
     "name": "stdout",
     "output_type": "stream",
     "text": [
      "Sentences: 16202.\n"
     ]
    }
   ],
   "source": [
    "def clean_text(text):\n",
    "    return re.sub(r'\\s+', ' ', text).strip()\n",
    "\n",
    "tree = ET.parse(\"VUAMC.xml\")\n",
    "root = tree.getroot()\n",
    "\n",
    "ns = {'tei': 'http://www.tei-c.org/ns/1.0'} # Namespace TEI\n",
    "\n",
    "data = [] # Labeled sentences\n",
    "\n",
    "for s in root.findall('.//tei:s', ns): # All sentences\n",
    "    sentence_text = clean_text(''.join(s.itertext())) # Full sentence text\n",
    "    metaphors = []\n",
    "\n",
    "    for w in s.findall('.//tei:w', ns): # All words in the sentence\n",
    "        for seg in w.findall('tei:seg', ns):\n",
    "            if seg.attrib.get(\"function\") == \"mrw\" and seg.attrib.get(\"type\") == \"met\": # Metaphorical word\n",
    "                text = clean_text(''.join(seg.itertext()))\n",
    "                if text:\n",
    "                    metaphors.append(text)\n",
    "\n",
    "    label = 1 if metaphors else 0 # 1 if there are metaphors, else 0\n",
    "    data.append((sentence_text, label, ';'.join(metaphors)))\n",
    "\n",
    "df = pd.DataFrame(data, columns=[\"sentence\", \"label\", \"metaphors\"])\n",
    "df.to_csv(\"VUAMC_sentences_labeled.csv\", index=False, encoding=\"utf-8\")\n",
    "\n",
    "print(f\"Sentences: {len(data)}.\")"
   ]
  },
  {
   "cell_type": "code",
   "execution_count": null,
   "id": "06a5cf55",
   "metadata": {},
   "outputs": [
    {
     "name": "stdout",
     "output_type": "stream",
     "text": [
      "[1] Latest corporate unbundler reveals laid-back approach : Roland Franklin , who is leading a 697m pound break-up bid for DRG , talks to Frank Kane\n",
      "\tMetaphors: reveals;approach;leading;to\n",
      "\n",
      "[0] By FRANK KANE\n",
      "\n",
      "[1] IT SEEMS that Roland Franklin , the latest unbundler to appear in the UK , has made a fatal error in the preparation of his £697m break-up bid for stationery and packaging group DRG .\n",
      "\tMetaphors: made;fatal;in\n",
      "\n",
      "[1] He has not properly investigated the target 's dining facilities .\n",
      "\tMetaphors: target\n",
      "\n",
      "[1] The 63-year-old head of Pembridge Investments , through which the bid is being mounted says , ‘ rule number one in this business is : the more luxurious the luncheon rooms at headquarters , the more inefficient the business ’ .\n",
      "\tMetaphors: head;through;mounted;rule;in;this;headquarters\n",
      "\n",
      "[1] If he had taken his own rule seriously , he would have found out that DRG has a very modest self-service canteen at its Bristol head office .\n",
      "\tMetaphors: taken;modest;head\n",
      "\n",
      "[1] There are other things he has , on his own admission , not fully investigated , like the value of the DRG properties , or which part of the DRG business he would keep after the break up .\n",
      "\tMetaphors: things;on;admission;part;keep;after\n",
      "\n",
      "[1] When the bid was launched last week , Mr Franklin faced some criticism from City commentators on both those counts .\n",
      "\tMetaphors: launched;faced;from;on;those;counts\n",
      "\n",
      "[1] He regards the charges as unfounded .\n",
      "\tMetaphors: regards;charges\n",
      "\n",
      "[1] On property , he is blunt .\n",
      "\tMetaphors: On;blunt\n",
      "\n"
     ]
    }
   ],
   "source": [
    "df = pd.read_csv(\"VUAMC_sentences_labeled.csv\")\n",
    "\n",
    "for i, row in df.head(10).iterrows():\n",
    "    label = row[\"label\"]\n",
    "    sentence = row[\"sentence\"] \n",
    "    metaphors = row[\"metaphors\"]\n",
    "\n",
    "    print(f\"[{label}] {sentence}\")\n",
    "    if label == 1 and metaphors:\n",
    "        print(f\"\\tMetaphors: {metaphors}\")\n",
    "    print()"
   ]
  }
 ],
 "metadata": {
  "kernelspec": {
   "display_name": ".venv (3.13.5)",
   "language": "python",
   "name": "python3"
  },
  "language_info": {
   "codemirror_mode": {
    "name": "ipython",
    "version": 3
   },
   "file_extension": ".py",
   "mimetype": "text/x-python",
   "name": "python",
   "nbconvert_exporter": "python",
   "pygments_lexer": "ipython3",
   "version": "3.13.5"
  }
 },
 "nbformat": 4,
 "nbformat_minor": 5
}
