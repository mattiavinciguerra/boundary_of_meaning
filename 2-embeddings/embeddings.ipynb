{
 "cells": [
  {
   "cell_type": "code",
   "execution_count": 1,
   "id": "e7f52341",
   "metadata": {},
   "outputs": [],
   "source": [
    "import torch\n",
    "import numpy as np\n",
    "from tqdm import tqdm\n",
    "from transformers import AutoTokenizer, AutoModel\n",
    "import os\n",
    "import pandas as pd"
   ]
  },
  {
   "cell_type": "code",
   "execution_count": 2,
   "id": "ad49c828",
   "metadata": {},
   "outputs": [],
   "source": [
    "def get_cls_embedding(outputs):\n",
    "    return outputs.last_hidden_state[:, 0, :].squeeze(0).cpu().numpy()\n",
    "\n",
    "def get_average_embedding(outputs, attention_mask):\n",
    "    mask = attention_mask.unsqueeze(-1)\n",
    "    masked = outputs.last_hidden_state * mask\n",
    "    summed = masked.sum(dim=1)\n",
    "    count = mask.sum(dim=1)\n",
    "    return (summed / count).squeeze(0).cpu().numpy()\n",
    "\n",
    "def get_layerwise_embedding(hidden_states, attention_mask, last_n):\n",
    "    # hidden_states: tuple of (layer_count+1, batch, seq_len, hidden_dim)\n",
    "    last_hidden_states = hidden_states[-last_n:]\n",
    "    stacked = torch.stack(last_hidden_states, dim=0) # (n_layers, batch, seq_len, hidden_dim)\n",
    "    layers_mean = stacked.mean(dim=0) # (batch, seq_len, hidden_dim)\n",
    "    mask = attention_mask.unsqueeze(-1)\n",
    "    masked = layers_mean * mask\n",
    "    summed = masked.sum(dim=1)\n",
    "    count = mask.sum(dim=1)\n",
    "    return (summed / count).squeeze(0).cpu().numpy()"
   ]
  },
  {
   "cell_type": "code",
   "execution_count": null,
   "id": "24ad0a84",
   "metadata": {},
   "outputs": [],
   "source": [
    "def embeddings_extraction(models, sentences, labels):\n",
    "    for model_name, out_dir in models.items():\n",
    "        os.makedirs(out_dir, exist_ok=True)\n",
    "\n",
    "        tokenizer = AutoTokenizer.from_pretrained(model_name)\n",
    "        model = AutoModel.from_pretrained(model_name, output_hidden_states=True)\n",
    "        model.eval()\n",
    "\n",
    "        device = torch.device(\"cuda\" if torch.cuda.is_available() else \"cpu\")\n",
    "        model.to(device)\n",
    "\n",
    "        cls_embeddings = []\n",
    "        average_embeddings = []\n",
    "        layerwise_embeddings = []\n",
    "\n",
    "        for sentence in tqdm(sentences, desc=out_dir):\n",
    "            inputs = tokenizer(sentence, return_tensors=\"pt\", truncation=True, padding=True).to(device)\n",
    "            with torch.no_grad():\n",
    "                outputs = model(**inputs)\n",
    "                attention_mask = inputs[\"attention_mask\"]\n",
    "\n",
    "                cls_emb = get_cls_embedding(outputs)\n",
    "                average_emb = get_average_embedding(outputs, attention_mask)\n",
    "                layerwise_emb = get_layerwise_embedding(outputs.hidden_states, attention_mask, last_n=4)\n",
    "\n",
    "                cls_embeddings.append(cls_emb)\n",
    "                average_embeddings.append(average_emb)\n",
    "                layerwise_embeddings.append(layerwise_emb)\n",
    "\n",
    "        np.savez(os.path.join(out_dir, \"cls.npz\"), embeddings=np.array(cls_embeddings), labels=np.array(labels))\n",
    "        np.savez(os.path.join(out_dir, \"average.npz\"), embeddings=np.array(average_embeddings), labels=np.array(labels))\n",
    "        np.savez(os.path.join(out_dir, \"layerwise.npz\"), embeddings=np.array(layerwise_embeddings), labels=np.array(labels))"
   ]
  },
  {
   "cell_type": "markdown",
   "id": "11ac86ae",
   "metadata": {},
   "source": [
    "### Dataset"
   ]
  },
  {
   "cell_type": "code",
   "execution_count": 4,
   "id": "feb02a41",
   "metadata": {},
   "outputs": [],
   "source": [
    "dataset_path = \"../1-dataset/VUAMC_sentences_labeled.csv\"\n",
    "df = pd.read_csv(dataset_path, encoding=\"utf-8\")\n",
    "sentences = df[\"sentence\"].tolist()\n",
    "labels = df[\"label\"].astype(int).tolist()"
   ]
  },
  {
   "cell_type": "markdown",
   "id": "6d28a328",
   "metadata": {},
   "source": [
    "### Pre-trained versions"
   ]
  },
  {
   "cell_type": "code",
   "execution_count": 5,
   "id": "0b1fd587",
   "metadata": {},
   "outputs": [
    {
     "name": "stderr",
     "output_type": "stream",
     "text": [
      "bert-base-uncased: 100%|██████████| 16202/16202 [09:53<00:00, 27.32it/s]\n",
      "Some weights of RobertaModel were not initialized from the model checkpoint at roberta-base and are newly initialized: ['pooler.dense.bias', 'pooler.dense.weight']\n",
      "You should probably TRAIN this model on a down-stream task to be able to use it for predictions and inference.\n",
      "roberta-base: 100%|██████████| 16202/16202 [10:52<00:00, 24.84it/s]\n"
     ]
    }
   ],
   "source": [
    "models = {\n",
    "    \"bert-base-uncased\": \"bert\",\n",
    "    \"roberta-base\": \"roberta\"\n",
    "}\n",
    "embeddings_extraction(models, sentences, labels)"
   ]
  },
  {
   "cell_type": "markdown",
   "id": "9f9dcec7",
   "metadata": {},
   "source": [
    "### Fine-tuned version (run after fine-tuning)"
   ]
  },
  {
   "cell_type": "code",
   "execution_count": 6,
   "id": "7a83f1cc",
   "metadata": {},
   "outputs": [
    {
     "name": "stderr",
     "output_type": "stream",
     "text": [
      "../5-fine_tuning/bert-base-uncased_ft: 100%|██████████| 16202/16202 [11:42<00:00, 23.05it/s]\n",
      "Some weights of RobertaModel were not initialized from the model checkpoint at ../5-fine_tuning/roberta-base_ft and are newly initialized: ['pooler.dense.bias', 'pooler.dense.weight']\n",
      "You should probably TRAIN this model on a down-stream task to be able to use it for predictions and inference.\n",
      "../5-fine_tuning/roberta-base_ft: 100%|██████████| 16202/16202 [12:03<00:00, 22.38it/s]\n"
     ]
    }
   ],
   "source": [
    "models = {\n",
    "    \"../5-fine_tuning/bert-base-uncased_ft\": \"bert_ft\",\n",
    "    \"../5-fine_tuning/roberta-base_ft\": \"roberta_ft\"\n",
    "}\n",
    "embeddings_extraction(models, sentences, labels)"
   ]
  }
 ],
 "metadata": {
  "kernelspec": {
   "display_name": ".venv (3.13.5)",
   "language": "python",
   "name": "python3"
  },
  "language_info": {
   "codemirror_mode": {
    "name": "ipython",
    "version": 3
   },
   "file_extension": ".py",
   "mimetype": "text/x-python",
   "name": "python",
   "nbconvert_exporter": "python",
   "pygments_lexer": "ipython3",
   "version": "3.13.5"
  }
 },
 "nbformat": 4,
 "nbformat_minor": 5
}
