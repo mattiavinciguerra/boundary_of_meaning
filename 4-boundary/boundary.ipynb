{
 "cells": [
  {
   "cell_type": "code",
   "execution_count": 8,
   "id": "b03fe124",
   "metadata": {},
   "outputs": [],
   "source": [
    "import os\n",
    "import numpy as np\n",
    "import matplotlib.pyplot as plt\n",
    "from sklearn.preprocessing import StandardScaler\n",
    "from sklearn.linear_model import LogisticRegression\n",
    "from sklearn.svm import SVC\n",
    "from sklearn.decomposition import PCA\n",
    "from sklearn.cluster import KMeans"
   ]
  },
  {
   "cell_type": "code",
   "execution_count": 9,
   "id": "d4f8699d",
   "metadata": {},
   "outputs": [],
   "source": [
    "def plot_clusters(X_2d, cluster_labels, out_path):\n",
    "    plt.figure()\n",
    "    plt.scatter(X_2d[cluster_labels == 0, 0], X_2d[cluster_labels == 0, 1], label=\"Cluster 0\", alpha=0.3, s=10, color=\"darkred\")\n",
    "    plt.scatter(X_2d[cluster_labels == 1, 0], X_2d[cluster_labels == 1, 1], label=\"Cluster 1\", alpha=0.3, s=10, color=\"darkblue\")\n",
    "    plt.legend()\n",
    "    plt.grid(True)\n",
    "    plt.tight_layout()\n",
    "    plt.savefig(out_path)\n",
    "    plt.close()"
   ]
  },
  {
   "cell_type": "code",
   "execution_count": 10,
   "id": "d003f73a",
   "metadata": {},
   "outputs": [],
   "source": [
    "def plot_boundary(X_2d, labels, classifier, out_path):\n",
    "    # Meshgrid for boundary\n",
    "    h = 0.1\n",
    "    x_min, x_max = X_2d[:, 0].min() - .5, X_2d[:, 0].max() + .5\n",
    "    y_min, y_max = X_2d[:, 1].min() - .5, X_2d[:, 1].max() + .5\n",
    "    xx, yy = np.meshgrid(np.arange(x_min, x_max, h), np.arange(y_min, y_max, h))\n",
    "\n",
    "    # Predict\n",
    "    Z = classifier.predict(np.c_[xx.ravel(), yy.ravel()])\n",
    "    Z = Z.reshape(xx.shape)\n",
    "\n",
    "    # Plot\n",
    "    plt.contourf(xx, yy, Z, alpha=0.3, cmap=plt.cm.Paired)\n",
    "    plt.scatter(X_2d[labels == 0, 0], X_2d[labels == 0, 1], label=\"Literal\", alpha=0.3, s=10)\n",
    "    plt.scatter(X_2d[labels == 1, 0], X_2d[labels == 1, 1], label=\"Figurative\", alpha=0.3, s=10)\n",
    "    plt.legend()\n",
    "    plt.grid(True)\n",
    "    plt.tight_layout()\n",
    "    plt.savefig(out_path)\n",
    "    plt.close()"
   ]
  },
  {
   "cell_type": "code",
   "execution_count": 11,
   "id": "95a1dc15",
   "metadata": {},
   "outputs": [],
   "source": [
    "def main(emb_dir, models, emb_types, classifiers):\n",
    "    for model_name in models:\n",
    "        print(f\"{model_name}...\")\n",
    "        for emb_type in emb_types:\n",
    "            emb_path = os.path.join(emb_dir, model_name, f\"{emb_type}.npz\")\n",
    "            data = np.load(emb_path)\n",
    "            embeddings = data[\"embeddings\"]\n",
    "            labels = data[\"labels\"]\n",
    "\n",
    "            # Standardize and PCA 2D\n",
    "            X_scaled = StandardScaler().fit_transform(embeddings)\n",
    "            X_2d = PCA(n_components=2, random_state=42).fit_transform(X_scaled)\n",
    "\n",
    "            out_path = os.path.join(model_name, emb_type)\n",
    "            os.makedirs(out_path, exist_ok=True)\n",
    "\n",
    "            # Clustering\n",
    "            kmeans = KMeans(n_clusters=2, n_init=20, random_state=42)\n",
    "            clusters = kmeans.fit_predict(embeddings)\n",
    "            out_path = os.path.join(model_name, emb_type, \"kmeans_clusters.png\")\n",
    "            plot_clusters(X_2d, clusters, out_path)\n",
    "\n",
    "            # Classification\n",
    "            for clf_name, classifier in classifiers.items():\n",
    "                classifier.fit(X_2d, labels)\n",
    "                out_path = os.path.join(model_name, emb_type, f\"{clf_name}_boundary.png\")\n",
    "                plot_boundary(X_2d, labels, classifier, out_path)"
   ]
  },
  {
   "cell_type": "code",
   "execution_count": 12,
   "id": "2f49ad5f",
   "metadata": {},
   "outputs": [],
   "source": [
    "emb_dir = \"../2-embeddings\"\n",
    "emb_types = [\"cls\", \"average\", \"layerwise\"]\n",
    "classifiers = {\n",
    "    \"logreg\": LogisticRegression(max_iter=1000, random_state=42),\n",
    "    \"svm\": SVC(kernel=\"linear\", random_state=42)\n",
    "}"
   ]
  },
  {
   "cell_type": "code",
   "execution_count": 13,
   "id": "2582bb13",
   "metadata": {},
   "outputs": [
    {
     "name": "stdout",
     "output_type": "stream",
     "text": [
      "bert...\n",
      "roberta...\n"
     ]
    }
   ],
   "source": [
    "models = [\"bert\", \"roberta\"]\n",
    "main(emb_dir, models, emb_types, classifiers)"
   ]
  },
  {
   "cell_type": "code",
   "execution_count": 14,
   "id": "f00b6698",
   "metadata": {},
   "outputs": [
    {
     "name": "stdout",
     "output_type": "stream",
     "text": [
      "bert_ft...\n",
      "roberta_ft...\n"
     ]
    }
   ],
   "source": [
    "models = [\"bert_ft\", \"roberta_ft\"]\n",
    "main(emb_dir, models, emb_types, classifiers)"
   ]
  }
 ],
 "metadata": {
  "kernelspec": {
   "display_name": ".venv (3.13.5)",
   "language": "python",
   "name": "python3"
  },
  "language_info": {
   "codemirror_mode": {
    "name": "ipython",
    "version": 3
   },
   "file_extension": ".py",
   "mimetype": "text/x-python",
   "name": "python",
   "nbconvert_exporter": "python",
   "pygments_lexer": "ipython3",
   "version": "3.13.5"
  }
 },
 "nbformat": 4,
 "nbformat_minor": 5
}
