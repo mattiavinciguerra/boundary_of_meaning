{
 "cells": [
  {
   "cell_type": "code",
   "execution_count": 1,
   "id": "2fc84f41",
   "metadata": {},
   "outputs": [],
   "source": [
    "import numpy as np\n",
    "import matplotlib.pyplot as plt\n",
    "from sklearn.decomposition import PCA\n",
    "from sklearn.cluster import KMeans\n",
    "from sklearn.metrics import adjusted_rand_score\n",
    "from sklearn.preprocessing import StandardScaler\n",
    "import os\n",
    "from sklearn.model_selection import train_test_split\n",
    "from sklearn.linear_model import LogisticRegression\n",
    "from sklearn.metrics import adjusted_rand_score, accuracy_score, precision_score, recall_score, f1_score"
   ]
  },
  {
   "cell_type": "code",
   "execution_count": 2,
   "id": "3540e967",
   "metadata": {},
   "outputs": [],
   "source": [
    "def analyze_embeddings(embeddings, labels, out_path):\n",
    "    # Clustering\n",
    "    kmeans = KMeans(n_clusters=2, n_init=20, random_state=42)\n",
    "    kmeans_labels = kmeans.fit_predict(embeddings)\n",
    "    ari = adjusted_rand_score(labels, kmeans_labels)\n",
    "\n",
    "    # Classification\n",
    "    X_train, X_test, y_train, y_test = train_test_split(embeddings, labels, test_size=0.2, random_state=42)\n",
    "\n",
    "    classifier = LogisticRegression(max_iter=1000, random_state=42)\n",
    "    classifier.fit(X_train, y_train)\n",
    "    y_pred = classifier.predict(X_test)\n",
    "\n",
    "    acc = round(accuracy_score(y_test, y_pred), 3)\n",
    "    prec = round(precision_score(y_test, y_pred), 3)\n",
    "    rec = round(recall_score(y_test, y_pred), 3)\n",
    "    f1 = round(f1_score(y_test, y_pred), 3)\n",
    "\n",
    "    # Plot\n",
    "    X_scaled = StandardScaler().fit_transform(embeddings)\n",
    "    X_2d = PCA(n_components=2, random_state=42).fit_transform(X_scaled)\n",
    "\n",
    "    _, axes = plt.subplots(1, 3, figsize=(18, 5))\n",
    "\n",
    "    # PCA\n",
    "    axes[0].scatter(X_2d[labels == 0, 0], X_2d[labels == 0, 1], label='Literal', alpha=0.5)\n",
    "    axes[0].scatter(X_2d[labels == 1, 0], X_2d[labels == 1, 1], label='Figurative', alpha=0.5)\n",
    "    axes[0].set_title(\"PCA\")\n",
    "\n",
    "    # K-means\n",
    "    axes[1].scatter(X_2d[kmeans_labels == 0, 0], X_2d[kmeans_labels == 0, 1], label='Cluster 0', alpha=0.5, color='darkred')\n",
    "    axes[1].scatter(X_2d[kmeans_labels == 1, 0], X_2d[kmeans_labels == 1, 1], label='Cluster 1', alpha=0.5, color='darkblue')\n",
    "    axes[1].set_title(f\"K-Means Clustering (ARI={ari:.2f})\")\n",
    "\n",
    "    # Classification boundary\n",
    "    classifier.fit(X_2d, labels)\n",
    "    x_min, x_max = X_2d[:, 0].min() - 1, X_2d[:, 0].max() + 1\n",
    "    y_min, y_max = X_2d[:, 1].min() - 1, X_2d[:, 1].max() + 1\n",
    "    xx, yy = np.meshgrid(np.linspace(x_min, x_max, 500), np.linspace(y_min, y_max, 500))\n",
    "    Z = classifier.predict(np.c_[xx.ravel(), yy.ravel()]).reshape(xx.shape)\n",
    "\n",
    "    axes[2].contourf(xx, yy, Z, alpha=0.3, cmap=plt.cm.Paired)\n",
    "    axes[2].scatter(X_2d[labels == 0, 0], X_2d[labels == 0, 1], label='Literal', alpha=0.5)\n",
    "    axes[2].scatter(X_2d[labels == 1, 0], X_2d[labels == 1, 1], label='Figurative', alpha=0.5)\n",
    "    axes[2].set_title(f\"Logistic Regression\\nAcc={acc:.2f} Prec={prec:.2f} Rec={rec:.2f} F1={f1:.2f}\")\n",
    "\n",
    "    for ax in axes:\n",
    "        ax.grid(True)\n",
    "        ax.legend()\n",
    "\n",
    "    plt.tight_layout()\n",
    "    plt.savefig(out_path)\n",
    "    plt.close()"
   ]
  },
  {
   "cell_type": "code",
   "execution_count": 3,
   "id": "d5a108dc",
   "metadata": {},
   "outputs": [],
   "source": [
    "emb_path = \"top_words_embeddings.npz\"\n",
    "data = np.load(emb_path)\n",
    "words = data['words']\n",
    "embeddings = data['embeddings']\n",
    "labels = data['labels']\n",
    "\n",
    "for word in set(words):\n",
    "    mask = (words == word)\n",
    "    filtered_embeddings = embeddings[mask]\n",
    "    filtered_labels = labels[mask]\n",
    "    out_dir = \"top_words_analysis\"\n",
    "    os.makedirs(out_dir, exist_ok=True)\n",
    "    out_path = os.path.join(out_dir, f\"{word}.png\")\n",
    "    analyze_embeddings(filtered_embeddings, filtered_labels, out_path)"
   ]
  }
 ],
 "metadata": {
  "kernelspec": {
   "display_name": ".venv (3.13.5)",
   "language": "python",
   "name": "python3"
  },
  "language_info": {
   "codemirror_mode": {
    "name": "ipython",
    "version": 3
   },
   "file_extension": ".py",
   "mimetype": "text/x-python",
   "name": "python",
   "nbconvert_exporter": "python",
   "pygments_lexer": "ipython3",
   "version": "3.13.5"
  }
 },
 "nbformat": 4,
 "nbformat_minor": 5
}
