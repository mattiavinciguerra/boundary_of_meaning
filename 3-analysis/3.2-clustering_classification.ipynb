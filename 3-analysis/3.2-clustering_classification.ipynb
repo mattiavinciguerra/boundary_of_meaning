{
 "cells": [
  {
   "cell_type": "code",
   "execution_count": 1,
   "id": "eed77989",
   "metadata": {},
   "outputs": [],
   "source": [
    "import os\n",
    "import numpy as np\n",
    "import pandas as pd\n",
    "from sklearn.cluster import KMeans\n",
    "from sklearn.linear_model import LogisticRegression\n",
    "from sklearn.svm import SVC\n",
    "from sklearn.metrics import adjusted_rand_score, accuracy_score, precision_score, recall_score, f1_score\n",
    "from sklearn.model_selection import train_test_split"
   ]
  },
  {
   "cell_type": "code",
   "execution_count": 2,
   "id": "00930aac",
   "metadata": {},
   "outputs": [],
   "source": [
    "def main(emb_dir, models, emb_types, classifiers):\n",
    "    for model_name in models:\n",
    "        print(f\"{model_name}...\")\n",
    "        for emb_type in emb_types:\n",
    "            emb_path = os.path.join(emb_dir, model_name, f\"{emb_type}.npz\")\n",
    "            data = np.load(emb_path)\n",
    "            embeddings = data[\"embeddings\"]\n",
    "            labels = data[\"labels\"]\n",
    "\n",
    "            metrics = []\n",
    "\n",
    "            # Clustering\n",
    "            kmeans = KMeans(n_clusters=2, n_init=20, random_state=42)\n",
    "            pred = kmeans.fit_predict(embeddings)\n",
    "            ari = adjusted_rand_score(labels, pred)\n",
    "            metrics.append({\n",
    "                \"Method\": \"K-Means\",\n",
    "                \"ARI\": round(ari, 3)\n",
    "            })\n",
    "\n",
    "            # Classification\n",
    "            X_train, X_test, y_train, y_test = train_test_split(embeddings, labels, test_size=0.2, random_state=42)\n",
    "            for clf_name, classifier in classifiers.items():\n",
    "                classifier.fit(X_train, y_train)\n",
    "                y_pred = classifier.predict(X_test)\n",
    "\n",
    "                metrics.append({\n",
    "                    \"Method\": clf_name,\n",
    "                    \"Accuracy\": round(accuracy_score(y_test, y_pred), 3),\n",
    "                    \"Precision\": round(precision_score(y_test, y_pred), 3),\n",
    "                    \"Recall\": round(recall_score(y_test, y_pred), 3),\n",
    "                    \"F1\": round(f1_score(y_test, y_pred), 3)\n",
    "                })\n",
    "\n",
    "            # Save metrics\n",
    "            out_path = os.path.join(model_name, emb_type)\n",
    "            os.makedirs(out_path, exist_ok=True)\n",
    "\n",
    "            out_path = os.path.join(out_path, \"metrics.csv\")\n",
    "            metrics_df = pd.DataFrame(metrics)\n",
    "            metrics_df.to_csv(out_path, index=False)"
   ]
  },
  {
   "cell_type": "code",
   "execution_count": 3,
   "id": "5ebbd6f7",
   "metadata": {},
   "outputs": [],
   "source": [
    "emb_dir = \"../2-embeddings\"\n",
    "emb_types = [\"cls\", \"average\", \"layerwise\"]\n",
    "classifiers = {\n",
    "    \"LogReg\": LogisticRegression(max_iter=1000, random_state=42),\n",
    "    \"SVM\": SVC(kernel=\"linear\", random_state=42)\n",
    "}"
   ]
  },
  {
   "cell_type": "code",
   "execution_count": 4,
   "id": "142b137c",
   "metadata": {},
   "outputs": [
    {
     "name": "stdout",
     "output_type": "stream",
     "text": [
      "bert...\n",
      "roberta...\n"
     ]
    }
   ],
   "source": [
    "models = [\"bert\", \"roberta\"]\n",
    "main(emb_dir, models, emb_types, classifiers)"
   ]
  },
  {
   "cell_type": "code",
   "execution_count": 5,
   "id": "41ac68ff",
   "metadata": {},
   "outputs": [
    {
     "name": "stdout",
     "output_type": "stream",
     "text": [
      "bert_ft...\n",
      "roberta_ft...\n"
     ]
    }
   ],
   "source": [
    "models = [\"bert_ft\", \"roberta_ft\"]\n",
    "main(emb_dir, models, emb_types, classifiers)"
   ]
  }
 ],
 "metadata": {
  "kernelspec": {
   "display_name": ".venv (3.13.5)",
   "language": "python",
   "name": "python3"
  },
  "language_info": {
   "codemirror_mode": {
    "name": "ipython",
    "version": 3
   },
   "file_extension": ".py",
   "mimetype": "text/x-python",
   "name": "python",
   "nbconvert_exporter": "python",
   "pygments_lexer": "ipython3",
   "version": "3.13.5"
  }
 },
 "nbformat": 4,
 "nbformat_minor": 5
}
