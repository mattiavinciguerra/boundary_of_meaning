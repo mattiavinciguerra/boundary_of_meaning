{
 "cells": [
  {
   "cell_type": "code",
   "execution_count": 6,
   "id": "39504fc9",
   "metadata": {},
   "outputs": [],
   "source": [
    "import numpy as np\n",
    "import matplotlib.pyplot as plt\n",
    "from sklearn.decomposition import PCA\n",
    "from sklearn.manifold import TSNE\n",
    "from umap import UMAP\n",
    "from sklearn.preprocessing import StandardScaler\n",
    "import os\n",
    "from matplotlib import animation"
   ]
  },
  {
   "cell_type": "code",
   "execution_count": 7,
   "id": "ef16ee14",
   "metadata": {},
   "outputs": [],
   "source": [
    "def plot(X_2d, X_3d, labels, out_path):\n",
    "    # 2D\n",
    "    plt.figure(figsize=(6, 6))\n",
    "    plt.scatter(X_2d[labels == 0, 0], X_2d[labels == 0, 1], alpha=0.3, s=10, label=\"Literal\")\n",
    "    plt.scatter(X_2d[labels == 1, 0], X_2d[labels == 1, 1], alpha=0.3, s=10, label=\"Figurative\")\n",
    "    plt.legend()\n",
    "    plt.grid(True)\n",
    "    plt.tight_layout()\n",
    "    png_path = f\"{out_path}.png\"\n",
    "    plt.savefig(png_path)\n",
    "    plt.close()\n",
    "\n",
    "    # GIF\n",
    "    fig3d = plt.figure(figsize=(6, 6))\n",
    "    ax3d = plt.axes(projection='3d')\n",
    "    ax3d.scatter(X_3d[labels == 0, 0], X_3d[labels == 0, 1], X_3d[labels == 0, 2], label=\"Literal\", alpha=0.3, s=10)\n",
    "    ax3d.scatter(X_3d[labels == 1, 0], X_3d[labels == 1, 1], X_3d[labels == 1, 2], label=\"Figurative\", alpha=0.3, s=10)\n",
    "    ax3d.legend()\n",
    "\n",
    "    def rotate(angle):\n",
    "        ax3d.view_init(30, angle)\n",
    "\n",
    "    gif_path = f\"{out_path}.gif\"\n",
    "    rot_animation = animation.FuncAnimation(fig3d, rotate, frames=np.arange(0, 360, 4), interval=60)\n",
    "    rot_animation.save(gif_path, dpi=80, writer='pillow')\n",
    "    plt.close(fig3d)"
   ]
  },
  {
   "cell_type": "code",
   "execution_count": 8,
   "id": "ab75e55a",
   "metadata": {},
   "outputs": [],
   "source": [
    "def main(emb_dir, models, emb_types, reducers):\n",
    "    for model_name in models:\n",
    "        print(f\"{model_name}...\")\n",
    "        for emb_type in emb_types:\n",
    "            emb_path = os.path.join(emb_dir, model_name, f\"{emb_type}.npz\")\n",
    "            data = np.load(emb_path)\n",
    "            embeddings = data[\"embeddings\"]\n",
    "            labels = data[\"labels\"]\n",
    "\n",
    "            X_scaled = StandardScaler().fit_transform(embeddings)\n",
    "\n",
    "            out_dir = os.path.join(model_name, emb_type)\n",
    "            os.makedirs(out_dir, exist_ok=True)\n",
    "\n",
    "            for reducer_name, reducer in reducers.items():\n",
    "                reduced_2d = reducer[0].fit_transform(X_scaled)\n",
    "                reduced_3d = reducer[1].fit_transform(X_scaled)\n",
    "                out_path = os.path.join(out_dir, reducer_name)\n",
    "                plot(reduced_2d, reduced_3d, labels, out_path)"
   ]
  },
  {
   "cell_type": "code",
   "execution_count": 9,
   "id": "d6910442",
   "metadata": {},
   "outputs": [],
   "source": [
    "emb_dir = \"../2-embeddings\"\n",
    "emb_types = [\"cls\", \"average\", \"layerwise\"]\n",
    "reducers = {\n",
    "    \"pca\": [PCA(n_components=2, random_state=42),\n",
    "            PCA(n_components=3, random_state=42)],\n",
    "    \"tsne\": [TSNE(n_components=2, random_state=42),\n",
    "             TSNE(n_components=3, random_state=42)],\n",
    "    \"umap\": [UMAP(n_components=2, random_state=42, n_jobs=1, init='random'),\n",
    "             UMAP(n_components=3, random_state=42, n_jobs=1, init='random')]\n",
    "}"
   ]
  },
  {
   "cell_type": "code",
   "execution_count": 10,
   "id": "ae70ed63",
   "metadata": {},
   "outputs": [
    {
     "name": "stdout",
     "output_type": "stream",
     "text": [
      "bert...\n",
      "roberta...\n"
     ]
    }
   ],
   "source": [
    "models = [\"bert\", \"roberta\"]\n",
    "main(emb_dir, models, emb_types, reducers)"
   ]
  },
  {
   "cell_type": "code",
   "execution_count": 11,
   "id": "05bd8f44",
   "metadata": {},
   "outputs": [
    {
     "name": "stdout",
     "output_type": "stream",
     "text": [
      "bert_ft...\n",
      "roberta_ft...\n"
     ]
    }
   ],
   "source": [
    "models = [\"bert_ft\", \"roberta_ft\"]\n",
    "main(emb_dir, models, emb_types, reducers)"
   ]
  }
 ],
 "metadata": {
  "kernelspec": {
   "display_name": ".venv (3.13.5)",
   "language": "python",
   "name": "python3"
  },
  "language_info": {
   "codemirror_mode": {
    "name": "ipython",
    "version": 3
   },
   "file_extension": ".py",
   "mimetype": "text/x-python",
   "name": "python",
   "nbconvert_exporter": "python",
   "pygments_lexer": "ipython3",
   "version": "3.13.5"
  }
 },
 "nbformat": 4,
 "nbformat_minor": 5
}
