{
 "cells": [
  {
   "cell_type": "code",
   "execution_count": 1,
   "id": "2594d725",
   "metadata": {},
   "outputs": [],
   "source": [
    "import os\n",
    "import random\n",
    "import json\n",
    "from datasets import load_dataset, concatenate_datasets"
   ]
  },
  {
   "cell_type": "code",
   "execution_count": 2,
   "id": "b4e21c2d",
   "metadata": {},
   "outputs": [],
   "source": [
    "def save_pil_image(pil_img, save_dir, idx, ext=\"jpg\"):\n",
    "    os.makedirs(save_dir, exist_ok=True)\n",
    "    if pil_img.mode == \"RGBA\":\n",
    "        pil_img = pil_img.convert(\"RGB\")\n",
    "    path = os.path.join(save_dir, f\"img_{idx}.{ext}\")\n",
    "    pil_img.save(path)\n",
    "    return path"
   ]
  },
  {
   "cell_type": "code",
   "execution_count": 3,
   "id": "ed0f1334",
   "metadata": {},
   "outputs": [],
   "source": [
    "# Literal dataset: Flickr8k\n",
    "def load_flickr8k(n_samples=6027):\n",
    "    print(\"Downloading Flickr8k...\")\n",
    "    flickr = load_dataset(\"jxie/flickr8k\", split=\"train+validation+test\")\n",
    "\n",
    "    indices = random.sample(range(len(flickr)), n_samples)\n",
    "    flickr_sampled = flickr.select(indices)\n",
    "\n",
    "    flickr_sampled = flickr_sampled.map(lambda x: {\n",
    "        \"image\": x[\"image\"],\n",
    "        \"caption\": x[\"caption_0\"],\n",
    "        \"label\": 0 # Literal\n",
    "    })\n",
    "    return flickr_sampled\n",
    "\n",
    "# Figurative dataset: V-FLUTE\n",
    "def load_vflute():\n",
    "    print(\"Downloading V-FLUTE...\")\n",
    "    vflute = load_dataset(\"ColumbiaNLP/V-FLUTE\", split=\"train+validation+test\") # Size: 6027\n",
    "    \n",
    "    vflute = vflute.map(lambda x: {\n",
    "        \"image\": x[\"image\"],\n",
    "        \"caption\": x[\"claim\"],\n",
    "        \"label\": 1 # Figurative\n",
    "    })\n",
    "    return vflute"
   ]
  },
  {
   "cell_type": "code",
   "execution_count": 4,
   "id": "23e913e6",
   "metadata": {},
   "outputs": [
    {
     "name": "stdout",
     "output_type": "stream",
     "text": [
      "Downloading Flickr8k...\n"
     ]
    },
    {
     "data": {
      "application/vnd.jupyter.widget-view+json": {
       "model_id": "23ed7d4fbc1d4349bfb4fe244c456200",
       "version_major": 2,
       "version_minor": 0
      },
      "text/plain": [
       "Map:   0%|          | 0/6027 [00:00<?, ? examples/s]"
      ]
     },
     "metadata": {},
     "output_type": "display_data"
    },
    {
     "name": "stdout",
     "output_type": "stream",
     "text": [
      "Downloading V-FLUTE...\n",
      "Combining dataset...\n"
     ]
    }
   ],
   "source": [
    "flickr = load_flickr8k()\n",
    "vflute = load_vflute()\n",
    "\n",
    "print(\"Combining dataset...\")\n",
    "combined = concatenate_datasets([flickr, vflute])\n",
    "combined = combined.shuffle(seed=42)\n",
    "\n",
    "# Images paths\n",
    "save_dir_flickr = \"images/flickr8k\"\n",
    "save_dir_vflute = \"images/vflute\"\n",
    "os.makedirs(save_dir_flickr, exist_ok=True)\n",
    "os.makedirs(save_dir_vflute, exist_ok=True)\n",
    "\n",
    "# Save images and create JSONL with paths\n",
    "with open(\"combined_dataset.jsonl\", \"w\", encoding=\"utf-8\") as f_out:\n",
    "    for i, item in enumerate(combined):\n",
    "        pil_img = item[\"image\"] # PIL image object\n",
    "\n",
    "        if item[\"label\"] == 0:\n",
    "            path = save_pil_image(pil_img, save_dir_flickr, i)\n",
    "        else:\n",
    "            path = save_pil_image(pil_img, save_dir_vflute, i)\n",
    "\n",
    "        record = {\n",
    "            \"image_path\": path,\n",
    "            \"caption\": item[\"caption\"],\n",
    "            \"label\": item[\"label\"]\n",
    "        }\n",
    "        f_out.write(json.dumps(record) + \"\\n\")"
   ]
  }
 ],
 "metadata": {
  "kernelspec": {
   "display_name": ".venv (3.13.5)",
   "language": "python",
   "name": "python3"
  },
  "language_info": {
   "codemirror_mode": {
    "name": "ipython",
    "version": 3
   },
   "file_extension": ".py",
   "mimetype": "text/x-python",
   "name": "python",
   "nbconvert_exporter": "python",
   "pygments_lexer": "ipython3",
   "version": "3.13.5"
  }
 },
 "nbformat": 4,
 "nbformat_minor": 5
}
