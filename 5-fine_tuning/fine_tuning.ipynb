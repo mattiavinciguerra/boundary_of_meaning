{
 "cells": [
  {
   "cell_type": "code",
   "execution_count": 11,
   "id": "801cfaae",
   "metadata": {},
   "outputs": [],
   "source": [
    "import torch\n",
    "from torch.utils.data import Dataset, DataLoader\n",
    "from transformers import AutoTokenizer, AutoModelForSequenceClassification\n",
    "from torch.optim import AdamW\n",
    "from sklearn.metrics import accuracy_score\n",
    "import pandas as pd\n",
    "from sklearn.model_selection import train_test_split\n",
    "from transformers import DataCollatorWithPadding"
   ]
  },
  {
   "cell_type": "code",
   "execution_count": 12,
   "id": "d3bed181",
   "metadata": {},
   "outputs": [],
   "source": [
    "class TextDataset(Dataset):\n",
    "    def __init__(self, df, tokenizer):\n",
    "        self.texts = df['sentence'].tolist()\n",
    "        self.labels = df['label'].tolist()\n",
    "        self.tokenizer = tokenizer\n",
    "\n",
    "    def __len__(self):\n",
    "        return len(self.labels)\n",
    "\n",
    "    def __getitem__(self, idx):\n",
    "        text = self.texts[idx]\n",
    "        label = self.labels[idx]\n",
    "        enc = self.tokenizer(text, return_tensors=\"pt\", truncation=True)\n",
    "        return {\n",
    "            'input_ids': enc['input_ids'].squeeze(0),\n",
    "            'attention_mask': enc['attention_mask'].squeeze(0),\n",
    "            'labels': torch.tensor(label, dtype=torch.long)\n",
    "        }"
   ]
  },
  {
   "cell_type": "code",
   "execution_count": 13,
   "id": "ac89093b",
   "metadata": {},
   "outputs": [],
   "source": [
    "def train_epoch(model, dataloader, optimizer, device):\n",
    "    model.train()\n",
    "    for batch in dataloader:\n",
    "        batch = {k: v.to(device) for k, v in batch.items()}\n",
    "        optimizer.zero_grad()\n",
    "        outputs = model(**batch)\n",
    "        loss = outputs.loss\n",
    "        loss.backward()\n",
    "        optimizer.step()\n",
    "\n",
    "def eval_epoch(model, dataloader, device):\n",
    "    model.eval()\n",
    "    losses = []\n",
    "    all_preds, all_labels = [], []\n",
    "    with torch.no_grad():\n",
    "        for batch in dataloader:\n",
    "            batch = {k: v.to(device) for k, v in batch.items()}\n",
    "            outputs = model(**batch)\n",
    "            loss = outputs.loss\n",
    "            losses.append(loss.item())\n",
    "            preds = outputs.logits.argmax(dim=1).cpu().numpy()\n",
    "            labels = batch['labels'].cpu().numpy()\n",
    "            all_preds.extend(preds)\n",
    "            all_labels.extend(labels)\n",
    "    acc = accuracy_score(all_labels, all_preds)\n",
    "    return sum(losses) / len(losses), acc"
   ]
  },
  {
   "cell_type": "code",
   "execution_count": 14,
   "id": "e787e559",
   "metadata": {},
   "outputs": [],
   "source": [
    "def fine_tune(model_name, train_df, val_df, epochs=4, batch_size=16, lr=2e-5):\n",
    "    tokenizer = AutoTokenizer.from_pretrained(model_name)\n",
    "    model = AutoModelForSequenceClassification.from_pretrained(model_name, num_labels=2)\n",
    "\n",
    "    device = torch.device('cuda' if torch.cuda.is_available() else 'cpu')\n",
    "    model.to(device)\n",
    "\n",
    "    train_dataset = TextDataset(train_df, tokenizer)\n",
    "    val_dataset = TextDataset(val_df, tokenizer)\n",
    "\n",
    "    data_collator = DataCollatorWithPadding(tokenizer=tokenizer, padding=True)\n",
    "\n",
    "    train_loader = DataLoader(train_dataset, batch_size=batch_size, shuffle=True, collate_fn=data_collator)\n",
    "    val_loader = DataLoader(val_dataset, batch_size=batch_size, shuffle=False, collate_fn=data_collator)\n",
    "\n",
    "    optimizer = AdamW(model.parameters(), lr=lr)\n",
    "\n",
    "    best_loss = float('inf')\n",
    "    for epoch in range(1, epochs + 1):\n",
    "        train_epoch(model, train_loader, optimizer, device)\n",
    "        val_loss, val_acc = eval_epoch(model, val_loader, device)\n",
    "        print(f\"Epoch: {epoch} Val loss: {val_loss:.3f} Val acc: {val_acc:.3f}\")\n",
    "        if val_loss < best_loss:\n",
    "            best_loss = val_loss\n",
    "            model.save_pretrained(f\"{model_name}_ft\")\n",
    "            tokenizer.save_pretrained(f\"{model_name}_ft\")"
   ]
  },
  {
   "cell_type": "code",
   "execution_count": 15,
   "id": "0185cbe7",
   "metadata": {},
   "outputs": [
    {
     "name": "stdout",
     "output_type": "stream",
     "text": [
      "bert-base-uncased...\n"
     ]
    },
    {
     "name": "stderr",
     "output_type": "stream",
     "text": [
      "Some weights of BertForSequenceClassification were not initialized from the model checkpoint at bert-base-uncased and are newly initialized: ['classifier.bias', 'classifier.weight']\n",
      "You should probably TRAIN this model on a down-stream task to be able to use it for predictions and inference.\n"
     ]
    },
    {
     "name": "stdout",
     "output_type": "stream",
     "text": [
      "Epoch: 1 Val loss: 0.303 Val acc: 0.873\n",
      "Epoch: 2 Val loss: 0.373 Val acc: 0.856\n",
      "Epoch: 3 Val loss: 0.365 Val acc: 0.879\n",
      "Epoch: 4 Val loss: 0.442 Val acc: 0.870\n",
      "\n",
      "roberta-base...\n"
     ]
    },
    {
     "name": "stderr",
     "output_type": "stream",
     "text": [
      "Some weights of RobertaForSequenceClassification were not initialized from the model checkpoint at roberta-base and are newly initialized: ['classifier.dense.bias', 'classifier.dense.weight', 'classifier.out_proj.bias', 'classifier.out_proj.weight']\n",
      "You should probably TRAIN this model on a down-stream task to be able to use it for predictions and inference.\n"
     ]
    },
    {
     "name": "stdout",
     "output_type": "stream",
     "text": [
      "Epoch: 1 Val loss: 0.300 Val acc: 0.870\n",
      "Epoch: 2 Val loss: 0.420 Val acc: 0.839\n",
      "Epoch: 3 Val loss: 0.355 Val acc: 0.874\n",
      "Epoch: 4 Val loss: 0.404 Val acc: 0.859\n",
      "\n"
     ]
    }
   ],
   "source": [
    "data = pd.read_csv(\"../1-dataset/VUAMC_sentences_labeled.csv\")\n",
    "train_data, val_data = train_test_split(data, test_size=0.2, random_state=42, shuffle=True)\n",
    "models = [\"bert-base-uncased\", \"roberta-base\"]\n",
    "\n",
    "for model_name in models:\n",
    "    print(f\"{model_name}...\")\n",
    "    fine_tune(model_name, train_data, val_data)\n",
    "    print()"
   ]
  }
 ],
 "metadata": {
  "kernelspec": {
   "display_name": ".venv (3.13.5)",
   "language": "python",
   "name": "python3"
  },
  "language_info": {
   "codemirror_mode": {
    "name": "ipython",
    "version": 3
   },
   "file_extension": ".py",
   "mimetype": "text/x-python",
   "name": "python",
   "nbconvert_exporter": "python",
   "pygments_lexer": "ipython3",
   "version": "3.13.5"
  }
 },
 "nbformat": 4,
 "nbformat_minor": 5
}
